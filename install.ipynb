{
 "cells": [
  {
   "cell_type": "code",
   "execution_count": null,
   "metadata": {},
   "outputs": [],
   "source": [
    "!pip install decord\n",
    "!pip install pillow\n",
    "!pip install tqdm \n",
    "!pip install einops \n",
    "!pip install huggingface_hub\n",
    "!pip install matplotlib \n",
    "!pip install numpy \n",
    "!pip install opencv-python\n",
    "!pip install pyarrow \n",
    "!pip install PyYAML \n",
    "!pip install Requests \n",
    "!pip install scipy \n",
    "!pip install wandb \n",
    "!pip install transformers\n",
    "!pip install regex\n",
    "!pip install torchvision==0.21.0 --no-deps\n",
    "!pip install safetensors --no-deps\n",
    "!pip install sentencepiece --no-deps\n",
    "!pip install accelerate --no-deps\n",
    "!wget \"https://huggingface.co/datasets/simsim314/loras_sdxl/resolve/main/flash_attn-2.5.8-cp310-cp310-linux_x86_64.whl?download=true\" -O flash_attn-2.5.8-cp310-cp310-linux_x86_64.whl\n",
    "!pip install flash_attn-2.5.8-cp310-cp310-linux_x86_64.whl\n",
    "!pip install gradio\n"
   ]
  },
  {
   "cell_type": "code",
   "execution_count": null,
   "metadata": {},
   "outputs": [],
   "source": [
    "!git clone https://github.com/simsim314/BAGEL.git\n",
    "%cd BAGEL\n",
    "\n",
    "from huggingface_hub import snapshot_download\n",
    "\n",
    "save_dir = \"downloads\"\n",
    "repo_id = \"ByteDance-Seed/BAGEL-7B-MoT\"\n",
    "cache_dir = save_dir + \"/cache\"\n",
    "\n",
    "snapshot_download(cache_dir=cache_dir,\n",
    "  local_dir=save_dir,\n",
    "  repo_id=repo_id,\n",
    "  local_dir_use_symlinks=False,\n",
    "  resume_download=True,\n",
    "  allow_patterns=[\"*.json\", \"*.safetensors\", \"*.bin\", \"*.py\", \"*.md\", \"*.txt\"],\n",
    ")\n"
   ]
  }
 ],
 "metadata": {
  "fileId": "1bfaa82d-51b0-4c13-9e4c-295ba28bcd8a",
  "filePath": "/mnt/bn/seed-aws-va/chaorui/code/cdt-hf/notebooks/chat.ipynb",
  "kernelspec": {
   "display_name": "Python 3",
   "language": "python",
   "name": "python3"
  },
  "language_info": {
   "codemirror_mode": {
    "name": "ipython",
    "version": 3
   },
   "file_extension": ".py",
   "mimetype": "text/x-python",
   "name": "python",
   "nbconvert_exporter": "python",
   "pygments_lexer": "ipython3",
   "version": "3.10.12"
  }
 },
 "nbformat": 4,
 "nbformat_minor": 4
}
